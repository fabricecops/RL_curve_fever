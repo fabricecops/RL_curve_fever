{
 "cells": [
  {
   "cell_type": "markdown",
   "metadata": {},
   "source": [
    "# Q-Network Learning"
   ]
  },
  {
   "cell_type": "code",
   "execution_count": 1,
   "metadata": {},
   "outputs": [],
   "source": [
    "import gym\n",
    "import numpy as np\n",
    "import random\n",
    "import tensorflow as tf\n",
    "import matplotlib.pyplot as plt\n",
    "%matplotlib inline"
   ]
  },
  {
   "cell_type": "markdown",
   "metadata": {},
   "source": [
    "### Load the environment"
   ]
  },
  {
   "cell_type": "code",
   "execution_count": 2,
   "metadata": {
    "scrolled": false
   },
   "outputs": [
    {
     "name": "stderr",
     "output_type": "stream",
     "text": [
      "[2018-10-21 08:02:57,659] Making new env: FrozenLake-v0\n"
     ]
    }
   ],
   "source": [
    "env = gym.make('FrozenLake-v0')"
   ]
  },
  {
   "cell_type": "markdown",
   "metadata": {},
   "source": [
    "## The Q-Network Approach"
   ]
  },
  {
   "cell_type": "markdown",
   "metadata": {},
   "source": [
    "### Implementing the network itself"
   ]
  },
  {
   "cell_type": "code",
   "execution_count": 3,
   "metadata": {},
   "outputs": [],
   "source": [
    "tf.reset_default_graph()"
   ]
  },
  {
   "cell_type": "code",
   "execution_count": 4,
   "metadata": {},
   "outputs": [],
   "source": [
    "#These lines establish the feed-forward part of the network used to choose actions\n",
    "inputs1 = tf.placeholder(shape=[1,16],dtype=tf.float32)\n",
    "W       = tf.Variable(tf.random_uniform([16,4],0,0.01))\n",
    "Qout    = tf.matmul(inputs1,W)\n",
    "predict = tf.argmax(Qout,1)\n",
    "\n",
    "#Below we obtain the loss by taking the sum of squares difference between the target and prediction Q values.\n",
    "nextQ       = tf.placeholder(shape=[1,4],dtype=tf.float32)\n",
    "loss        = tf.reduce_sum(tf.square(nextQ - Qout))\n",
    "trainer     = tf.train.GradientDescentOptimizer(learning_rate=0.1)\n",
    "updateModel = trainer.minimize(loss)"
   ]
  },
  {
   "cell_type": "markdown",
   "metadata": {},
   "source": [
    "### Training the network"
   ]
  },
  {
   "cell_type": "code",
   "execution_count": 10,
   "metadata": {
    "scrolled": true
   },
   "outputs": [
    {
     "name": "stdout",
     "output_type": "stream",
     "text": [
      "--------------------------------------------------\n",
      "[3]\n",
      "[[1. 0. 0. 0. 0. 0. 0. 0. 0. 0. 0. 0. 0. 0. 0. 0.]]\n",
      "[[0.00012051 0.00526388 0.00358011 0.00613403]]\n",
      "0 0.0 False\n",
      "[[0.00012051 0.00526388 0.00358011 0.00619599]]\n",
      "0.00619599\n",
      "[[0.00012051 0.00526388 0.00358011 0.00613403]]\n",
      "--------------------------------------------------\n",
      "[3]\n",
      "[[0. 1. 0. 0. 0. 0. 0. 0. 0. 0. 0. 0. 0. 0. 0. 0.]]\n",
      "[[0.00012051 0.00526388 0.00358011 0.0089158 ]]\n",
      "1 0.0 False\n",
      "[[0.00900585 0.00196688 0.00758573 0.00587726]]\n",
      "0.009005855\n",
      "[[0.00012051 0.00526388 0.00358011 0.0089158 ]]\n",
      "--------------------------------------------------\n",
      "[0]\n",
      "[[0. 1. 0. 0. 0. 0. 0. 0. 0. 0. 0. 0. 0. 0. 0. 0.]]\n",
      "[[0.0089158  0.00196688 0.00758573 0.00587726]]\n",
      "1 0.0 False\n",
      "[[0.00900585 0.00196688 0.00758573 0.00587726]]\n",
      "0.009005855\n",
      "[[0.0089158  0.00196688 0.00758573 0.00587726]]\n",
      "--------------------------------------------------\n",
      "[0]\n",
      "[[1. 0. 0. 0. 0. 0. 0. 0. 0. 0. 0. 0. 0. 0. 0. 0.]]\n",
      "[[0.00666274 0.00196688 0.00758573 0.00587726]]\n",
      "0 0.0 False\n",
      "[[0.00012051 0.00526388 0.00358011 0.00673004]]\n",
      "0.0067300373\n",
      "[[0.00666274 0.00196688 0.00758573 0.00587726]]\n",
      "--------------------------------------------------\n",
      "[3]\n",
      "[[1. 0. 0. 0. 0. 0. 0. 0. 0. 0. 0. 0. 0. 0. 0. 0.]]\n",
      "[[0.00012051 0.00526388 0.00358011 0.00666274]]\n",
      "0 0.0 False\n",
      "[[0.00012051 0.00526388 0.00358011 0.00673004]]\n",
      "0.0067300373\n",
      "[[0.00012051 0.00526388 0.00358011 0.00666274]]\n",
      "--------------------------------------------------\n",
      "[3]\n",
      "[[1. 0. 0. 0. 0. 0. 0. 0. 0. 0. 0. 0. 0. 0. 0. 0.]]\n",
      "[[0.00012051 0.00526388 0.00358011 0.00664941]]\n",
      "0 0.0 False\n",
      "[[0.00012051 0.00526388 0.00358011 0.00671658]]\n",
      "0.0067165773\n",
      "[[0.00012051 0.00526388 0.00358011 0.00664941]]\n",
      "--------------------------------------------------\n",
      "[3]\n",
      "[[1. 0. 0. 0. 0. 0. 0. 0. 0. 0. 0. 0. 0. 0. 0. 0.]]\n",
      "[[0.00012051 0.00526388 0.00358011 0.00663611]]\n",
      "0 0.0 False\n",
      "[[0.00012051 0.00526388 0.00358011 0.00670314]]\n",
      "0.0067031444\n",
      "[[0.00012051 0.00526388 0.00358011 0.00663611]]\n",
      "--------------------------------------------------\n",
      "[1]\n",
      "[[0. 1. 0. 0. 0. 0. 0. 0. 0. 0. 0. 0. 0. 0. 0. 0.]]\n",
      "[[0.00012051 0.00843759 0.00358011 0.00668974]]\n",
      "1 0.0 False\n",
      "[[0.00852282 0.00196688 0.00758573 0.00587726]]\n",
      "0.008522822\n",
      "[[0.00012051 0.00843759 0.00358011 0.00668974]]\n",
      "--------------------------------------------------\n",
      "[0]\n",
      "[[1. 0. 0. 0. 0. 0. 0. 0. 0. 0. 0. 0. 0. 0. 0. 0.]]\n",
      "[[0.00662284 0.00196688 0.00758573 0.00587726]]\n",
      "0 0.0 False\n",
      "[[0.00012051 0.00589862 0.00358011 0.00668974]]\n",
      "0.006689738\n",
      "[[0.00662284 0.00196688 0.00758573 0.00587726]]\n",
      "--------------------------------------------------\n",
      "[3]\n",
      "[[1. 0. 0. 0. 0. 0. 0. 0. 0. 0. 0. 0. 0. 0. 0. 0.]]\n",
      "[[0.00012051 0.00589862 0.00358011 0.00662284]]\n",
      "0 0.0 False\n",
      "[[0.00012051 0.00589862 0.00358011 0.00668974]]\n",
      "0.006689738\n",
      "[[0.00012051 0.00589862 0.00358011 0.00662284]]\n",
      "--------------------------------------------------\n",
      "[3]\n",
      "[[1. 0. 0. 0. 0. 0. 0. 0. 0. 0. 0. 0. 0. 0. 0. 0.]]\n",
      "[[0.00012051 0.00589862 0.00358011 0.00660959]]\n",
      "0 0.0 False\n",
      "[[0.00012051 0.00589862 0.00358011 0.00667636]]\n",
      "0.0066763586\n",
      "[[0.00012051 0.00589862 0.00358011 0.00660959]]\n",
      "--------------------------------------------------\n",
      "[3]\n",
      "[[1. 0. 0. 0. 0. 0. 0. 0. 0. 0. 0. 0. 0. 0. 0. 0.]]\n",
      "[[0.00012051 0.00589862 0.00358011 0.00659638]]\n",
      "0 0.0 False\n",
      "[[0.00012051 0.00589862 0.00358011 0.00666301]]\n",
      "0.006663006\n",
      "[[0.00012051 0.00589862 0.00358011 0.00659638]]\n",
      "--------------------------------------------------\n",
      "[3]\n",
      "[[0. 1. 0. 0. 0. 0. 0. 0. 0. 0. 0. 0. 0. 0. 0. 0.]]\n",
      "[[0.00012051 0.00589862 0.00358011 0.0080614 ]]\n",
      "1 0.0 False\n",
      "[[0.00814283 0.00196688 0.00758573 0.00587726]]\n",
      "0.008142825\n",
      "[[0.00012051 0.00589862 0.00358011 0.0080614 ]]\n",
      "--------------------------------------------------\n",
      "[0]\n",
      "[[1. 0. 0. 0. 0. 0. 0. 0. 0. 0. 0. 0. 0. 0. 0. 0.]]\n",
      "[[0.0068627  0.00196688 0.00758573 0.00587726]]\n",
      "0 0.0 False\n",
      "[[0.00012051 0.00589862 0.00358011 0.00693202]]\n",
      "0.0069320234\n",
      "[[0.0068627  0.00196688 0.00758573 0.00587726]]\n",
      "--------------------------------------------------\n",
      "[3]\n",
      "[[1. 0. 0. 0. 0. 0. 0. 0. 0. 0. 0. 0. 0. 0. 0. 0.]]\n",
      "[[0.00012051 0.00589862 0.00358011 0.0068627 ]]\n",
      "0 0.0 False\n",
      "[[0.00012051 0.00589862 0.00358011 0.00693202]]\n",
      "0.0069320234\n",
      "[[0.00012051 0.00589862 0.00358011 0.0068627 ]]\n",
      "--------------------------------------------------\n",
      "[3]\n",
      "[[0. 1. 0. 0. 0. 0. 0. 0. 0. 0. 0. 0. 0. 0. 0. 0.]]\n",
      "[[0.00012051 0.00589862 0.00358011 0.00780793]]\n",
      "1 0.0 False\n",
      "[[0.0078868  0.00196688 0.00758573 0.00587726]]\n",
      "0.007886801\n",
      "[[0.00012051 0.00589862 0.00358011 0.00780793]]\n",
      "--------------------------------------------------\n",
      "[0]\n",
      "[[0. 0. 0. 0. 0. 1. 0. 0. 0. 0. 0. 0. 0. 0. 0. 0.]]\n",
      "[[0.00649915 0.00196688 0.00758573 0.00587726]]\n",
      "5 0.0 True\n",
      "[[0.00533987 0.0065648  0.0060126  0.00450257]]\n",
      "0.006564799\n",
      "[[0.00649915 0.00196688 0.00758573 0.00587726]]\n",
      "Percent of succesful episodes: 0.01%\n"
     ]
    }
   ],
   "source": [
    "init = tf.initialize_all_variables()\n",
    "\n",
    "# Set learning parameters\n",
    "y = .99\n",
    "e = 0.1\n",
    "num_episodes = 100\n",
    "#create lists to contain total rewards and steps per episode\n",
    "jList = []\n",
    "rList = []\n",
    "with tf.Session() as sess:\n",
    "    sess.run(init)\n",
    "    for i in range(num_episodes):\n",
    "        #Reset environment and get first new observation\n",
    "        s = env.reset()\n",
    "        rAll = 0\n",
    "        d = False\n",
    "        j = 0\n",
    "        #The Q-Network\n",
    "        while j < 99:\n",
    "            j+=1\n",
    "            #Choose an action by greedily (with e chance of random action) from the Q-network\n",
    "            a,allQ = sess.run([predict,Qout],feed_dict={inputs1:np.identity(16)[s:s+1]})\n",
    "\n",
    "\n",
    "            if np.random.rand(1) < e:\n",
    "                a[0] = env.action_space.sample()\n",
    "            #Get new state and reward from environment\n",
    "            s1,r,d,_ = env.step(a[0])\n",
    "            #Obtain the Q' values by feeding the new state through our network\n",
    "            Q1 = sess.run(Qout,feed_dict={inputs1:np.identity(16)[s1:s1+1]})\n",
    "            #Obtain maxQ' and set our target value for chosen action.\n",
    "            maxQ1 = np.max(Q1)\n",
    "            targetQ = allQ\n",
    "            targetQ[0,a[0]] = r + y*maxQ1\n",
    "            #Train our network using target and predicted Q values\n",
    "            _,W1 = sess.run([updateModel,W],feed_dict={inputs1:np.identity(16)[s:s+1],nextQ:targetQ})\n",
    "            rAll += r\n",
    "            s = s1\n",
    "            if (i==0 or i==2000):\n",
    "                print('-'*50)\n",
    "                print(s1,r,d)\n",
    "                print('Q old s   : ',allQ)\n",
    "                print('Max Q     : ',maxQ1)\n",
    "                print('Action    : ',a)\n",
    "                print('Q new s   : ',Q1)\n",
    "                print('Prediction: ',allQ)\n",
    "                print('Target    : ',targetQ)\n",
    "            if d == True:\n",
    "                #Reduce chance of random action as we train the model.\n",
    "                e = 1./((i/50) + 10)\n",
    "                break\n",
    "        jList.append(j)\n",
    "        rList.append(rAll)\n",
    "print (\"Percent of succesful episodes: \" + str(sum(rList)/num_episodes) + \"%\")"
   ]
  },
  {
   "cell_type": "markdown",
   "metadata": {},
   "source": [
    "### Some statistics on network performance"
   ]
  },
  {
   "cell_type": "markdown",
   "metadata": {},
   "source": [
    "We can see that the network beings to consistly reach the goal around the 750 episode mark."
   ]
  },
  {
   "cell_type": "code",
   "execution_count": null,
   "metadata": {},
   "outputs": [],
   "source": [
    "plt.plot(rList)"
   ]
  },
  {
   "cell_type": "markdown",
   "metadata": {},
   "source": [
    "It also begins to progress through the environment for longer than chance aroudn the 750 mark as well."
   ]
  },
  {
   "cell_type": "code",
   "execution_count": null,
   "metadata": {
    "scrolled": true
   },
   "outputs": [],
   "source": [
    "plt.plot(jList)"
   ]
  },
  {
   "cell_type": "code",
   "execution_count": null,
   "metadata": {},
   "outputs": [],
   "source": []
  }
 ],
 "metadata": {
  "kernelspec": {
   "display_name": "Python 3",
   "language": "python",
   "name": "python3"
  },
  "language_info": {
   "codemirror_mode": {
    "name": "ipython",
    "version": 3
   },
   "file_extension": ".py",
   "mimetype": "text/x-python",
   "name": "python",
   "nbconvert_exporter": "python",
   "pygments_lexer": "ipython3",
   "version": "3.5.2"
  }
 },
 "nbformat": 4,
 "nbformat_minor": 1
}
